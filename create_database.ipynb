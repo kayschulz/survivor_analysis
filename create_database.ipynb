{
 "cells": [
  {
   "cell_type": "code",
   "execution_count": 2,
   "metadata": {},
   "outputs": [],
   "source": [
    "import sqlite3"
   ]
  },
  {
   "cell_type": "code",
   "execution_count": 3,
   "metadata": {},
   "outputs": [],
   "source": [
    "conn = sqlite3.connect('survivor_database.db')\n",
    "cur = conn.cursor()"
   ]
  },
  {
   "cell_type": "code",
   "execution_count": 4,
   "metadata": {},
   "outputs": [
    {
     "name": "stdout",
     "output_type": "stream",
     "text": [
      "README.md             create_database.ipynb survivor_database.db\r\n"
     ]
    }
   ],
   "source": [
    "! ls"
   ]
  },
  {
   "cell_type": "code",
   "execution_count": 52,
   "metadata": {},
   "outputs": [
    {
     "data": {
      "text/plain": [
       "<sqlite3.Cursor at 0x109fca960>"
      ]
     },
     "execution_count": 52,
     "metadata": {},
     "output_type": "execute_result"
    }
   ],
   "source": [
    "cur.execute(\"\"\"CREATE TABLE seasons (\n",
    "                                id INTEGER PRIMARY KEY,\n",
    "                                name TEXT,\n",
    "                                num_initial_tribes INTEGER,\n",
    "                                swap BINARY,\n",
    "                                num_players INTEGER,\n",
    "                                returnee BINARY,\n",
    "                                num_finalist INTEGER,\n",
    "                                hidden_immunity BINARY,\n",
    "                                final_four_fire BINARY,\n",
    "                                re_entrance BINARY)          \n",
    "            \"\"\")"
   ]
  },
  {
   "cell_type": "code",
   "execution_count": 53,
   "metadata": {},
   "outputs": [
    {
     "data": {
      "text/plain": [
       "<sqlite3.Cursor at 0x109fca960>"
      ]
     },
     "execution_count": 53,
     "metadata": {},
     "output_type": "execute_result"
    }
   ],
   "source": [
    "cur.execute(\"\"\"INSERT INTO seasons (name, num_initial_tribes, swap, num_players, returnee,\n",
    "                                    num_finalist, hidden_immunity, final_four_fire, re_entrance)\n",
    "                VALUES ('Borneo', 2, FALSE, 16, FALSE, 2, FALSE, FALSE, FALSE);\"\"\")\n",
    "\n",
    "cur.execute(\"\"\"INSERT INTO seasons (name, num_initial_tribes, swap, num_players, returnee,\n",
    "                                    num_finalist, hidden_immunity, final_four_fire, re_entrance) \n",
    "                VALUES ('The Australian Outback', 2, FALSE, 16, FALSE, 2, FALSE, FALSE, FALSE);\"\"\")\n",
    "\n",
    "cur.execute(\"\"\"INSERT INTO seasons (name, num_initial_tribes, swap, num_players, returnee,\n",
    "                                    num_finalist, hidden_immunity, final_four_fire, re_entrance) \n",
    "                VALUES ('Africa', 3, TRUE, 16, FALSE, 2, FALSE, FALSE, FALSE);\"\"\")\n",
    "\n",
    "cur.execute(\"\"\"INSERT INTO seasons (name, num_initial_tribes, swap, num_players, returnee,\n",
    "                                    num_finalist, hidden_immunity, final_four_fire, re_entrance) \n",
    "                VALUES ('Marquesas', 2, TRUE, 16, FALSE, 2, FALSE, FALSE, FALSE);\"\"\")\n",
    "\n",
    "cur.execute(\"\"\"INSERT INTO seasons (name, num_initial_tribes, swap, num_players, returnee,\n",
    "                                    num_finalist, hidden_immunity, final_four_fire, re_entrance) \n",
    "                VALUES ('Thailand', 2, FALSE, 16, FALSE, 2, FALSE, FALSE, FALSE);\"\"\")"
   ]
  },
  {
   "cell_type": "code",
   "execution_count": 54,
   "metadata": {},
   "outputs": [
    {
     "data": {
      "text/plain": [
       "<sqlite3.Cursor at 0x109fca960>"
      ]
     },
     "execution_count": 54,
     "metadata": {},
     "output_type": "execute_result"
    }
   ],
   "source": [
    "cur.execute(\"\"\"INSERT INTO seasons (name, num_initial_tribes, swap, num_players, returnee,\n",
    "                                    num_finalist, hidden_immunity, final_four_fire, re_entrance) \n",
    "                VALUES ('The Amazon', 2, TRUE, 16, FALSE, 2, FALSE, FALSE, FALSE);\"\"\")\n",
    "\n",
    "cur.execute(\"\"\"INSERT INTO seasons (name, num_initial_tribes, swap, num_players, returnee,\n",
    "                                    num_finalist, hidden_immunity, final_four_fire, re_entrance) \n",
    "                VALUES ('Pearl Islands', 2, FALSE, 16, FALSE, 2, FALSE, FALSE, TRUE);\"\"\")\n",
    "\n",
    "cur.execute(\"\"\"INSERT INTO seasons (name, num_initial_tribes, swap, num_players, returnee,\n",
    "                                    num_finalist, hidden_immunity, final_four_fire, re_entrance)\n",
    "                VALUES ('All-Stars', 3, TRUE, 18, TRUE, 2, FALSE, FALSE, FALSE);\"\"\")\n",
    "\n",
    "cur.execute(\"\"\"INSERT INTO seasons (name, num_initial_tribes, swap, num_players, returnee,\n",
    "                                    num_finalist, hidden_immunity, final_four_fire, re_entrance)\n",
    "                VALUES ('Vanuatu', 2, TRUE, 18, FALSE, 2, FALSE, FALSE, FALSE);\"\"\")\n",
    "\n",
    "cur.execute(\"\"\"INSERT INTO seasons (name, num_initial_tribes, swap, num_players, returnee,\n",
    "                                    num_finalist, hidden_immunity, final_four_fire, re_entrance) \n",
    "                VALUES ('Palau', 2, FALSE, 20, FALSE, 2, FALSE, FALSE, FALSE);\"\"\")"
   ]
  },
  {
   "cell_type": "code",
   "execution_count": 55,
   "metadata": {},
   "outputs": [
    {
     "data": {
      "text/plain": [
       "<sqlite3.Cursor at 0x109fca960>"
      ]
     },
     "execution_count": 55,
     "metadata": {},
     "output_type": "execute_result"
    }
   ],
   "source": [
    "cur.execute(\"\"\"INSERT INTO seasons (name, num_initial_tribes, swap, num_players, returnee,\n",
    "                                    num_finalist, hidden_immunity, final_four_fire, re_entrance) \n",
    "                VALUES ('Guatemala', 2, TRUE, 18, TRUE, 2, TRUE, FALSE, FALSE);\"\"\")\n",
    "\n",
    "cur.execute(\"\"\"INSERT INTO seasons (name, num_initial_tribes, swap, num_players, returnee,\n",
    "                                    num_finalist, hidden_immunity, final_four_fire, re_entrance)\n",
    "                VALUES ('Panama', 4, TRUE, 16, FALSE, 2, TRUE, FALSE, FALSE);\"\"\")\n",
    "\n",
    "cur.execute(\"\"\"INSERT INTO seasons (name, num_initial_tribes, swap, num_players, returnee,\n",
    "                                    num_finalist, hidden_immunity, final_four_fire, re_entrance) \n",
    "                VALUES ('Cook Islands', 4, TRUE, 20, FALSE, 3, TRUE, FALSE, FALSE);\"\"\")\n",
    "\n",
    "cur.execute(\"\"\"INSERT INTO seasons (name, num_initial_tribes, swap, num_players, returnee,\n",
    "                                    num_finalist, hidden_immunity, final_four_fire, re_entrance) \n",
    "                VALUES ('Fiji', 2, TRUE, 19, FALSE, 3, TRUE, FALSE, FALSE);\"\"\")\n",
    "\n",
    "cur.execute(\"\"\"INSERT INTO seasons (name, num_initial_tribes, swap, num_players, returnee,\n",
    "                                    num_finalist, hidden_immunity, final_four_fire, re_entrance) \n",
    "                VALUES ('China', 2, TRUE, 16, FALSE, 3, TRUE, FALSE, FALSE);\"\"\")"
   ]
  },
  {
   "cell_type": "code",
   "execution_count": 56,
   "metadata": {},
   "outputs": [
    {
     "data": {
      "text/plain": [
       "<sqlite3.Cursor at 0x109fca960>"
      ]
     },
     "execution_count": 56,
     "metadata": {},
     "output_type": "execute_result"
    }
   ],
   "source": [
    "cur.execute(\"\"\"INSERT INTO seasons (name, num_initial_tribes, swap, num_players, returnee,\n",
    "                                    num_finalist, hidden_immunity, final_four_fire, re_entrance) \n",
    "                VALUES ('Micronesia - Fans v Favorites', 2, TRUE, 20, TRUE, 2, TRUE, FALSE, FALSE);\"\"\")\n",
    "\n",
    "cur.execute(\"\"\"INSERT INTO seasons (name, num_initial_tribes, swap, num_players, returnee,\n",
    "                                    num_finalist, hidden_immunity, final_four_fire, re_entrance) \n",
    "                VALUES ('Gabon', 2, TRUE, 18, FALSE, 3, TRUE, FALSE, FALSE);\"\"\")\n",
    "\n",
    "cur.execute(\"\"\"INSERT INTO seasons (name, num_initial_tribes, swap, num_players, returnee,\n",
    "                                    num_finalist, hidden_immunity, final_four_fire, re_entrance) \n",
    "                VALUES ('Tocantins', 2, FALSE, 16, FALSE, 2, TRUE, FALSE, FALSE);\"\"\")\n",
    "\n",
    "cur.execute(\"\"\"INSERT INTO seasons (name, num_initial_tribes, swap, num_players, returnee,\n",
    "                                    num_finalist, hidden_immunity, final_four_fire, re_entrance) \n",
    "                VALUES ('Samoa', 2, FALSE, 20, FALSE, 3, TRUE, FALSE, FALSE);\"\"\")\n",
    "\n",
    "cur.execute(\"\"\"INSERT INTO seasons (name, num_initial_tribes, swap, num_players, returnee,\n",
    "                                    num_finalist, hidden_immunity, final_four_fire, re_entrance) \n",
    "                VALUES ('Heroes vs. Villians', 2, FALSE, 20, TRUE, 3, TRUE, FALSE, FALSE);\"\"\")"
   ]
  },
  {
   "cell_type": "code",
   "execution_count": 57,
   "metadata": {},
   "outputs": [
    {
     "data": {
      "text/plain": [
       "<sqlite3.Cursor at 0x109fca960>"
      ]
     },
     "execution_count": 57,
     "metadata": {},
     "output_type": "execute_result"
    }
   ],
   "source": [
    "cur.execute(\"\"\"INSERT INTO seasons (name, num_initial_tribes, swap, num_players, returnee,\n",
    "                                    num_finalist, hidden_immunity, final_four_fire, re_entrance) \n",
    "                VALUES ('Nicaragua', 2, TRUE, 20, FALSE, 3, TRUE, FALSE, FALSE);\"\"\")\n",
    "\n",
    "cur.execute(\"\"\"INSERT INTO seasons (name, num_initial_tribes, swap, num_players, returnee,\n",
    "                                    num_finalist, hidden_immunity, final_four_fire, re_entrance) \n",
    "                VALUES ('Redemption Island', 2, FALSE, 18, TRUE, 3, TRUE, FALSE, TRUE);\"\"\")\n",
    "\n",
    "cur.execute(\"\"\"INSERT INTO seasons (name, num_initial_tribes, swap, num_players, returnee,\n",
    "                                    num_finalist, hidden_immunity, final_four_fire, re_entrance) \n",
    "                VALUES ('South Pacific', 2, FALSE, 18, FALSE, 3, TRUE, FALSE, TRUE);\"\"\")\n",
    "\n",
    "cur.execute(\"\"\"INSERT INTO seasons (name, num_initial_tribes, swap, num_players, returnee,\n",
    "                                    num_finalist, hidden_immunity, final_four_fire, re_entrance) \n",
    "                VALUES ('One World', 2, TRUE, 18, FALSE, 3, TRUE, FALSE, FALSE);\"\"\")\n",
    "\n",
    "cur.execute(\"\"\"INSERT INTO seasons (name, num_initial_tribes, swap, num_players, returnee,\n",
    "                                    num_finalist, hidden_immunity, final_four_fire, re_entrance) \n",
    "                VALUES ('Philippines', 3, TRUE, 18, TRUE, 3, TRUE, FALSE, FALSE);\"\"\")"
   ]
  },
  {
   "cell_type": "code",
   "execution_count": 58,
   "metadata": {},
   "outputs": [
    {
     "data": {
      "text/plain": [
       "<sqlite3.Cursor at 0x109fca960>"
      ]
     },
     "execution_count": 58,
     "metadata": {},
     "output_type": "execute_result"
    }
   ],
   "source": [
    "cur.execute(\"\"\"INSERT INTO seasons (name, num_initial_tribes, swap, num_players, returnee,\n",
    "                                    num_finalist, hidden_immunity, final_four_fire, re_entrance) \n",
    "                VALUES ('Caramoan', 2, TRUE, 20, TRUE, 3, TRUE, FALSE, FALSE);\"\"\")\n",
    "\n",
    "cur.execute(\"\"\"INSERT INTO seasons (name, num_initial_tribes, swap, num_players, returnee,\n",
    "                                    num_finalist, hidden_immunity, final_four_fire, re_entrance) \n",
    "                VALUES ('Blood vs. Water', 2, TRUE, 20, TRUE, 3, TRUE, FALSE, TRUE);\"\"\")\n",
    "\n",
    "cur.execute(\"\"\"INSERT INTO seasons (name, num_initial_tribes, swap, num_players, returnee,\n",
    "                                    num_finalist, hidden_immunity, final_four_fire, re_entrance) \n",
    "                VALUES ('Cagayan', 3, TRUE, 18, FALSE, 2, TRUE, FALSE, FALSE);\"\"\")\n",
    "\n",
    "cur.execute(\"\"\"INSERT INTO seasons (name, num_initial_tribes, swap, num_players, returnee,\n",
    "                                    num_finalist, hidden_immunity, final_four_fire, re_entrance) \n",
    "                VALUES ('San Juan del Sur', 2, TRUE, 18, FALSE, 3, TRUE, FALSE, FALSE);\"\"\")\n",
    "\n",
    "cur.execute(\"\"\"INSERT INTO seasons (name, num_initial_tribes, swap, num_players, returnee,\n",
    "                                    num_finalist, hidden_immunity, final_four_fire, re_entrance) \n",
    "                VALUES ('Worlds Apart', 3, TRUE, 18, FALSE, 3, TRUE, FALSE, FALSE);\"\"\")"
   ]
  },
  {
   "cell_type": "code",
   "execution_count": 59,
   "metadata": {},
   "outputs": [
    {
     "data": {
      "text/plain": [
       "<sqlite3.Cursor at 0x109fca960>"
      ]
     },
     "execution_count": 59,
     "metadata": {},
     "output_type": "execute_result"
    }
   ],
   "source": [
    "cur.execute(\"\"\"INSERT INTO seasons (name, num_initial_tribes, swap, num_players, returnee,\n",
    "                                    num_finalist, hidden_immunity, final_four_fire, re_entrance) \n",
    "                VALUES ('Cambodia', 2, TRUE, 20, TRUE, 3, TRUE, FALSE, FALSE);\"\"\")\n",
    "\n",
    "cur.execute(\"\"\"INSERT INTO seasons (name, num_initial_tribes, swap, num_players, returnee,\n",
    "                                    num_finalist, hidden_immunity, final_four_fire, re_entrance) \n",
    "                VALUES ('Kaoh Rong', 3, TRUE, 18, FALSE, 3, TRUE, FALSE, FALSE);\"\"\")\n",
    "\n",
    "cur.execute(\"\"\"INSERT INTO seasons (name, num_initial_tribes, swap, num_players, returnee,\n",
    "                                    num_finalist, hidden_immunity, final_four_fire, re_entrance) \n",
    "                VALUES ('Millennials vs. Gen X', 2, TRUE, 20, FALSE, 3, TRUE, FALSE, FALSE);\"\"\")\n",
    "\n",
    "cur.execute(\"\"\"INSERT INTO seasons (name, num_initial_tribes, swap, num_players, returnee,\n",
    "                                    num_finalist, hidden_immunity, final_four_fire, re_entrance) \n",
    "                VALUES ('Game Changers', 2, TRUE, 20, TRUE, 3, TRUE, FALSE, FALSE);\"\"\")\n",
    "\n",
    "cur.execute(\"\"\"INSERT INTO seasons (name, num_initial_tribes, swap, num_players, returnee,\n",
    "                                    num_finalist, hidden_immunity, final_four_fire, re_entrance) \n",
    "                VALUES ('Heroes vs. Healers vs. Hustlers', 3, TRUE, 18, FALSE, 3, TRUE, TRUE, FALSE);\"\"\")"
   ]
  },
  {
   "cell_type": "code",
   "execution_count": null,
   "metadata": {},
   "outputs": [],
   "source": [
    "cur.execute(\"\"\"INSERT INTO seasons (name, num_initial_tribes, swap, num_players, returnee,\n",
    "                                    num_finalist, hidden_immunity, final_four_fire, re_entrance) \n",
    "                VALUES ('Ghost Island', 2, TRUE, 20, FALSE, 2, TRUE, TRUE, FALSE);\"\"\")\n",
    "\n",
    "cur.execute(\"\"\"INSERT INTO seasons (name, num_initial_tribes, swap, num_players, returnee,\n",
    "                                    num_finalist, hidden_immunity, final_four_fire, re_entrance) \n",
    "                VALUES ('David vs. Goliath', 2, TRUE, 20, FALSE, 3, TRUE, TRUE, FALSE);\"\"\")\n",
    "\n",
    "cur.execute(\"\"\"INSERT INTO seasons (name, num_initial_tribes, swap, num_players, returnee,\n",
    "                                    num_finalist, hidden_immunity, final_four_fire, re_entrance) \n",
    "                VALUES ('Edge of Extinction', 2, TRUE, 18, TRUE, 3, TRUE, TRUE, FALSE);\"\"\")"
   ]
  },
  {
   "cell_type": "code",
   "execution_count": null,
   "metadata": {},
   "outputs": [],
   "source": []
  },
  {
   "cell_type": "code",
   "execution_count": 51,
   "metadata": {},
   "outputs": [
    {
     "data": {
      "text/plain": [
       "<sqlite3.Cursor at 0x109fca960>"
      ]
     },
     "execution_count": 51,
     "metadata": {},
     "output_type": "execute_result"
    }
   ],
   "source": [
    "#cur.execute(\"\"\"DROP TABLE seasons\"\"\")"
   ]
  },
  {
   "cell_type": "code",
   "execution_count": null,
   "metadata": {},
   "outputs": [],
   "source": [
    "cur.execute(\"\"\"INSERT INTO seasons (name, num_initial_tribes, swap, num_players, returnee) \n",
    "                VALUES ('Borneo', 2, FALSE, 16, FALSE);\"\"\")"
   ]
  },
  {
   "cell_type": "code",
   "execution_count": null,
   "metadata": {},
   "outputs": [],
   "source": [
    "cur.execute(\"\"\"INSERT INTO seasons (name, num_initial_tribes, swap, num_players, returnee) \n",
    "                VALUES ('Borneo', 2, FALSE, 16, FALSE);\"\"\")"
   ]
  },
  {
   "cell_type": "code",
   "execution_count": null,
   "metadata": {},
   "outputs": [],
   "source": [
    "cur.execute(\"\"\"INSERT INTO seasons (name, num_initial_tribes, swap, num_players, returnee) \n",
    "                VALUES ('Borneo', 2, FALSE, 16, FALSE);\"\"\")"
   ]
  },
  {
   "cell_type": "code",
   "execution_count": null,
   "metadata": {},
   "outputs": [],
   "source": [
    "cur.execute(\"\"\"INSERT INTO seasons (name, num_initial_tribes, swap, num_players, returnee) \n",
    "                VALUES ('Borneo', 2, FALSE, 16, FALSE);\"\"\")"
   ]
  },
  {
   "cell_type": "code",
   "execution_count": null,
   "metadata": {},
   "outputs": [],
   "source": []
  },
  {
   "cell_type": "code",
   "execution_count": 28,
   "metadata": {},
   "outputs": [
    {
     "ename": "OperationalError",
     "evalue": "no such table: seasons",
     "output_type": "error",
     "traceback": [
      "\u001b[0;31m---------------------------------------------------------------------------\u001b[0m",
      "\u001b[0;31mOperationalError\u001b[0m                          Traceback (most recent call last)",
      "\u001b[0;32m<ipython-input-28-9e326178c830>\u001b[0m in \u001b[0;36m<module>\u001b[0;34m()\u001b[0m\n\u001b[0;32m----> 1\u001b[0;31m \u001b[0mcur\u001b[0m\u001b[0;34m.\u001b[0m\u001b[0mexecute\u001b[0m\u001b[0;34m(\u001b[0m\u001b[0;34m\"\"\"SELECT * FROM seasons\"\"\"\u001b[0m\u001b[0;34m)\u001b[0m\u001b[0;34m.\u001b[0m\u001b[0mfetchall\u001b[0m\u001b[0;34m(\u001b[0m\u001b[0;34m)\u001b[0m\u001b[0;34m\u001b[0m\u001b[0m\n\u001b[0m",
      "\u001b[0;31mOperationalError\u001b[0m: no such table: seasons"
     ]
    }
   ],
   "source": [
    "cur.execute(\"\"\"SELECT * FROM seasons\"\"\").fetchall()"
   ]
  },
  {
   "cell_type": "code",
   "execution_count": null,
   "metadata": {},
   "outputs": [],
   "source": []
  }
 ],
 "metadata": {
  "kernelspec": {
   "display_name": "Python 3",
   "language": "python",
   "name": "python3"
  },
  "language_info": {
   "codemirror_mode": {
    "name": "ipython",
    "version": 3
   },
   "file_extension": ".py",
   "mimetype": "text/x-python",
   "name": "python",
   "nbconvert_exporter": "python",
   "pygments_lexer": "ipython3",
   "version": "3.6.6"
  }
 },
 "nbformat": 4,
 "nbformat_minor": 2
}
